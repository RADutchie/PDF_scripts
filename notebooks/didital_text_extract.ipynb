{
 "metadata": {
  "language_info": {
   "codemirror_mode": {
    "name": "ipython",
    "version": 3
   },
   "file_extension": ".py",
   "mimetype": "text/x-python",
   "name": "python",
   "nbconvert_exporter": "python",
   "pygments_lexer": "ipython3",
   "version": "3.8.10"
  },
  "orig_nbformat": 4,
  "kernelspec": {
   "name": "python3",
   "display_name": "Python 3.8.10 64-bit ('pdf-extract': conda)"
  },
  "interpreter": {
   "hash": "3661ed0adf184a26fc8b971f2b55783664bdb0e4c03237a9b9352bc5d39dfbf9"
  }
 },
 "nbformat": 4,
 "nbformat_minor": 2,
 "cells": [
  {
   "cell_type": "code",
   "execution_count": 1,
   "metadata": {},
   "outputs": [],
   "source": [
    "import os\n",
    "import csv\n",
    "from pathlib import Path\n",
    "import json\n",
    "\n",
    "from pdfminer.converter import TextConverter\n",
    "from pdfminer.pdfinterp import PDFPageInterpreter\n",
    "from pdfminer.pdfinterp import PDFResourceManager\n",
    "from pdfminer.pdfpage import PDFPage\n",
    "from pdfminer.layout import LAParams\n",
    "import io"
   ]
  },
  {
   "source": [
    "'/home/rian/ML_Scripts/PDF_OCR/digital_pdf_list.csv'\n",
    "\"/mnt/hgfs/Shared_VM/Envelopes/\""
   ],
   "cell_type": "markdown",
   "metadata": {}
  },
  {
   "cell_type": "code",
   "execution_count": 2,
   "metadata": {},
   "outputs": [],
   "source": [
    "def create_file_list(path_to_list: str, path_to_docs: str)->list:\n",
    "    \"\"\"Create a list of file paths from a csv input list of files\n",
    "    INPUT: \n",
    "    path_to_list: str: full path to csv file.\n",
    "    path_to_docs: str: path to folder containing .pdf files for tect extraction\n",
    "    \n",
    "    RETURNS: list: list of Path objects to documents\n",
    "    \"\"\"\n",
    "\n",
    "    files = []\n",
    "    with open(path_to_list, newline='') as f:\n",
    "        read = csv.reader(f)\n",
    "        for row in read:\n",
    "            files.append(row[0])\n",
    "    paths = [Path(path_to_docs+pdf) for pdf in files]\n",
    "    print(f\"list contains {len(files)} for text extraction\")\n",
    "    return paths"
   ]
  },
  {
   "source": [
    "test_path = create_file_list('/home/rian/ML_Scripts/PDF_OCR/test_envs.csv', \"/mnt/hgfs/Shared_VM/Envelopes/\")\n",
    "test_path"
   ],
   "cell_type": "markdown",
   "metadata": {}
  },
  {
   "cell_type": "code",
   "execution_count": 3,
   "metadata": {},
   "outputs": [],
   "source": [
    "def extract_text(fname):\n",
    "    \"\"\"Extract text as strings, page-by-page from a digital pdf document\n",
    "    INPUT:\n",
    "    fname: str: path to pdf document\n",
    "    \n",
    "    RETURNS: dict: python dictionary with page number, starting at 1:page text\n",
    "    \"\"\"\n",
    "    output = io.StringIO()\n",
    "    manager = PDFResourceManager()\n",
    "    codec = 'utf-8'\n",
    "    converter = TextConverter(manager, output, codec=codec, laparams=LAParams())\n",
    "    interpreter = PDFPageInterpreter(manager, converter)\n",
    "    \n",
    "    page_text = {}\n",
    "    with open(fname, 'rb') as infile:\n",
    "        for (i, page) in enumerate(PDFPage.get_pages(infile)):\n",
    "            interpreter.process_page(page)\n",
    "            _text = output.getvalue()\n",
    "            page_text[i+1] = _text\n",
    "            output.seek(0)\n",
    "            \n",
    "    \n",
    "    \n",
    "    output.close()\n",
    "    converter.close()\n",
    "    \n",
    "    return page_text"
   ]
  },
  {
   "source": [
    "test_text = extract_text('/mnt/hgfs/Shared_VM/Envelopes/13270.pdf')\n",
    "test_text[5]"
   ],
   "cell_type": "markdown",
   "metadata": {}
  },
  {
   "source": [
    "def extract_text(fname, pages=None):\n",
    "    \"\"\"Extract text as strings, page-by-page from a digital pdf document\n",
    "    INPUT:\n",
    "    fname: str: path to pdf document\n",
    "    \n",
    "    RETURNS: dict: python dictionary with page number, starting at 1:page text\n",
    "    \"\"\"\n",
    "    if not pages:\n",
    "        pagenums = set()\n",
    "    else:\n",
    "        pagenums = set(pages)\n",
    "        \n",
    "    output = io.StringIO()\n",
    "    manager = PDFResourceManager()\n",
    "    codec = 'utf-8'\n",
    "    converter = TextConverter(manager, output, codec=codec, laparams=LAParams())\n",
    "    interpreter = PDFPageInterpreter(manager, converter)\n",
    "    \n",
    "    page_text = {}\n",
    "    #with open(fname, 'rb') as infile:\n",
    "    infile = open(fname, 'rb')\n",
    "    for page in PDFPage.get_pages(infile, pagenums):\n",
    "        interpreter.process_page(page)\n",
    "        #_text = output.getvalue()\n",
    "        #page_text[i+1] = _text\n",
    "    \n",
    "    infile.close()\n",
    "    converter.close()\n",
    "    _text = output.getvalue()\n",
    "    output.close()\n",
    "\n",
    "    return _text"
   ],
   "cell_type": "markdown",
   "metadata": {}
  },
  {
   "source": [
    "test_text = extract_text('/mnt/hgfs/Shared_VM/Envelopes/13270.pdf')\n",
    "test_text"
   ],
   "cell_type": "markdown",
   "metadata": {}
  },
  {
   "source": [
    "test_text[5]"
   ],
   "cell_type": "markdown",
   "metadata": {}
  },
  {
   "cell_type": "code",
   "execution_count": 4,
   "metadata": {},
   "outputs": [],
   "source": [
    "def process_multiple_pdfs(path_to_list: str, path_to_docs: str):\n",
    "    \"\"\"Function to extract text from multiple digital pgf files and return both a json output file and python dictionary containing\n",
    "    a structure; {report_no: {page_no:text}}\n",
    "    INPUT:\n",
    "    path_to_list: str: full path to csv file.\n",
    "    path_to_docs: str: path to folder containing .pdf files for tect extraction\n",
    "\n",
    "    RETURNS: None: outputs json file to curent working directory file path\n",
    "    \"\"\"\n",
    "    path_list = create_file_list(path_to_list, path_to_docs)\n",
    "\n",
    "    digital_text = {}\n",
    "    for pdf in path_list:\n",
    "        try:\n",
    "            text = extract_text(pdf)\n",
    "            digital_text[pdf.stem] = text\n",
    "            print(f\"text extracted from {pdf.stem}\")\n",
    "        except Exception as e:\n",
    "            print(f\"Error {e} in file {pdf.stem}\")\n",
    "            continue\n",
    "    \n",
    "    #print(f\"Json output to: {os.getcwd()}\")\n",
    "    #with open(\"digital_text_extract.json\", \"w\") as outfile:\n",
    "        #json.dump(digital_text, outfile, indent=' ')\n",
    "\n",
    "    return digital_text"
   ]
  },
  {
   "source": [
    "if __name__==\"__main__\":\n",
    "    process_multiple_pdfs('/home/rian/ML_Scripts/PDF_OCR/test_envs.csv', \"/mnt/hgfs/Shared_VM/Envelopes/\")"
   ],
   "cell_type": "markdown",
   "metadata": {}
  },
  {
   "source": [
    "texts = process_multiple_pdfs('/home/rian/ML_Scripts/PDF_OCR/test_envs.csv', \"/mnt/hgfs/Shared_VM/Envelopes/\")"
   ],
   "cell_type": "code",
   "metadata": {},
   "execution_count": 5,
   "outputs": [
    {
     "output_type": "stream",
     "name": "stdout",
     "text": [
      "list contains 6 for text extraction\n",
      "text extracted from 06557\n",
      "text extracted from 06604\n",
      "text extracted from 11141\n",
      "text extracted from 11148\n",
      "text extracted from 13267\n",
      "text extracted from 13270\n"
     ]
    }
   ]
  },
  {
   "cell_type": "code",
   "execution_count": 6,
   "metadata": {},
   "outputs": [
    {
     "output_type": "execute_result",
     "data": {
      "text/plain": [
       "dict_keys(['06557', '06604', '11141', '11148', '13267', '13270'])"
      ]
     },
     "metadata": {},
     "execution_count": 6
    }
   ],
   "source": [
    "texts.keys()"
   ]
  },
  {
   "cell_type": "code",
   "execution_count": 7,
   "metadata": {},
   "outputs": [
    {
     "output_type": "execute_result",
     "data": {
      "text/plain": [
       "rms  part  of  the  larger  Nawa  Domain,  is  located  in  the  central \\nnorthern Gawler, and is bound by the Karari Fault Zone to the south. The geology and temporal evolution \\nof the region is poorly known due to a lack of outcrop. Sparse drilling from within FMG’s EL 6219 shows \\nevidence  of  low  temperature  hematite-carbonate-amphibole-sulphide  alteration  and  brecciation, \\ntherefore the style of mineralisation  targeted  within the Mabel  Creek Ridge is similar  to the hematite \\ndominant IOCG systems on the Stuart Shelf (e.g. Olympic Dam, Carrapateena & Prominent Hill).  \\n \\nRegional  drill  hole  data  within  the  MCR  suggests  the  area  is  largely  comprised  of  ca.  1750-1730  Ma \\nmetasedimentary rocks affected by ca. 1720-1690 Ma and ca. 1590-1550 Ma metamorphism (Payne et \\nal.,  2006,  2008  &  Cutts  et  al.,  2011).  In  general,  basement  lithologies  intersected  in  drilling  include \\ngranulite facies metabasites,  pelites,  psammites and iron rich metasediments. Detrital zircon age data \\ncollected  from  MCR  drill  core  indicate  a  maximum  depositional  age  of  ca.  1740  Ma,  with  the  bulk  of \\ndetritus being in the range 1840-1740 Ma (Payne et al 2006).  \\n \\nMetamorphic  monazite  LA-ICPMS  age  data  indicates  multiple  age  peaks,  with  weighted  average \\n207Pb/206Pb ages of ca. 1700, 1580, 1560 and 1550 Ma. Peak metamorphic conditions during the early \\nMesoproterozoic reached ~850°C at ~9 kbar (Cutts et al., 2011), and was associated with the formation \\nof well-developed gneissic fabrics, indicating that metamorphism was accompanied by deformation. Total \\nMagnetic  Intensity  (TMI)  interpretations  suggest  the  presence  of  east-west  trending  shallow  plunging \\ncrustal scale folds that have been dissected by a system of sinistral faults. Cutts et al. (2011) conclude that \\nthe distinctive geophysical expression, and the presence of strongly foliated early Mesoproterozoic high-\\ngrade mineral assemblages in successions known from drilling suggest that structure evident in the TMI \\ndata are early Mesoproterozoic in age.  \\n\\n \\nLocally,  Palaeo-Mesoproterozoic  basement  to  EL  6219  is  unconformably  overlain  by  ~250-500m  of \\nshallow marine sediments of the Permian Arckaringa Basin, and marine to continental sediments of the \\nCretaceous Eromanga Basin. \\n \\n \\n6. \\n\\nPREVIOUS EXPLORATION \\n\\nThe Northwest Olympic Project has been grouped into 9 different project areas based on location. These \\ninclude  Acropolis  South,  Balta  Baltana,  Bulgunnia,  Horsewell  North,  Millers  Creek,  Parakylia,  Playford, \\nWarrina and Warriner Creek (Figure 3). EL 6219 is located within the Warrina project area. \\n\\n \\n\\n \\n\\n\\x0c',\n",
       " 10: 'Final Annual Technical Report 2018-2020 EL 6219 \\n\\nPage 10 of 16 \\n\\nFigure 3. Project Sub Group areas for Northwest Olympic Joint Reporting Group. EL 6219 is part of the \\nWarrina sub project area \\n\\n \\n\\n \\n\\n \\n\\n \\n\\n \\n\\n\\x0cGawler, and is bound by the Karari Fault Zone to the south. The geology and temporal evolution \\nof the region is poorly known due to a lack of outcrop. Sparse drilling from within FMG’s EL 6219 shows \\nevidence  of  low  temperature  hematite-carbonate-amphibole-sulphide  alteration  and  brecciation, \\ntherefore the style of mineralisation  targeted  within the Mabel  Creek Ridge is similar  to the hematite \\ndominant IOCG systems on the Stuart Shelf (e.g. Olympic Dam, Carrapateena & Prominent Hill).  \\n \\nRegional  drill  hole  data  within  the  MCR  suggests  the  area  is  largely  comprised  of  ca.  1750-1730  Ma \\nmetasedimentary rocks affected by ca. 1720-1690 Ma and ca. 1590-1550 Ma metamorphism (Payne et \\nal.,  2006,  2008  &  Cutts  et  al.,  2011).  In  general,  basement  lithologies  intersected  in  drilling  include \\ngranulite facies metabasites,  pelites,  psammites and iron rich metasediments. Detrital zircon age data \\ncollected  from  MCR  drill  core  indicate  a  maximum  depositional  age  of  ca.  1740  Ma,  with  the  bulk  of \\ndetritus being in the range 1840-1740 Ma (Payne et al 2006).  \\n \\nMetamorphic  monazite  LA-ICPMS  age  data  indicates  multiple  age  peaks,  with  weighted  average \\n207Pb/206Pb ages of ca. 1700, 1580, 1560 and 1550 Ma. Peak metamorphic conditions during the early \\nMesoproterozoic reached ~850°C at ~9 kbar (Cutts et al., 2011), and was associated with the formation \\nof well-developed gneissic fabrics, indicating that metamorphism was accompanied by deformation. Total \\nMagnetic  Intensity  (TMI)  interpretations  suggest  the  presence  of  east-west  trending  shallow  plunging \\ncrustal scale folds that have been dissected by a system of sinistral faults. Cutts et al. (2011) conclude that \\nthe distinctive geophysical expression, and the presence of strongly foliated early Mesoproterozoic high-\\ngrade mineral assemblages in successions known from drilling suggest that structure evident in the TMI \\ndata are early Mesoproterozoic in age.  \\n\\n \\nLocally,  Palaeo-Mesoproterozoic  basement  to  EL  6219  is  unconformably  overlain  by  ~250-500m  of \\nshallow marine sediments of the Permian Arckaringa Basin, and marine to continental sediments of the \\nCretaceous Eromanga Basin. \\n \\n \\n6. \\n\\nPREVIOUS EXPLORATION \\n\\nThe Northwest Olympic Project has been grouped into 9 different project areas based on location. These \\ninclude  Acropolis  South,  Balta  Baltana,  Bulgunnia,  Horsewell  North,  Millers  Creek,  Parakylia,  Playford, \\nWarrina and Warriner Creek (Figure 3). EL 6219 is located within the Warrina project area. \\n\\n \\n\\n \\n\\n\\x0c',\n",
       " 11: 'Final Annual Technical Report 2018-2020 EL 6219 \\n\\nPage 11 of 16 \\n\\n  Previous 3rd Party Exploration \\n\\n6.1.1  WARRINA – EL 6219 \\n\\nExploration within the Warrina group commenced with Evaporite Minerals Pty Ltd in 1973 with the search \\n\\nfor lower Permian coal in the Mount Barry area; ten holes drilled with coal seam intercepts ranging from \\n\\n73 to 121 m. BP Minerals Australia continued this search with additional rotary drilling (5,122 m) with 7 \\n\\nsuccessful holes intercepting coal seams of up to 1.5m thickness. \\n\\nThrough to 1978 Newmont Australia Ltd began IOCG exploration in the Warrina region. Hole SR14 was \\n\\ndrilled to 194.4 m but no further drilling was done due to expected basement measured at 900m. Coal \\n\\nexploration  in  the  Arckaringa  Basin  continued  with  Balhoil  Nominees  Pty  Ltd  in  1980  with  248  holes \\n\\ntotalling 56,498 metres drilled. The Wintinna, East Wintinna, Westfield and Murloocoppie coal deposits \\n\\nwere discovered and delineated and a detailed informal seam nomenclature was developed. Following \\n\\non from this work Rio Tinto Exploration Pty Ltd continued investigations into the coal prospectivity of the \\n\\nburied Permian sedimentary sequence within the northern Arckaringa Basin, 70 km north-east of Coober \\n\\nPedy. Work included extensive data reviews, 6-line gravity survey and reconnaissance drilling of 4 rotary-\\n\\nmud holes (total 816 m). \\n\\nBetween 1982 and 1986 Balhoil Nominees also commenced diamond exploration in the Arckaringa area, \\n\\n50k  southwest  of  Oodnadatta.  Heavy  mineral  geochemical  sampling  from  previous  coal  exploration \\n\\ndrillholes  was  completed,  plus  the  acquisition  and  interpretation  of  ground  magnetic  surveys  over \\n\\nprospective structures. Kimberlite Findicator minerals were identified in 4 of the 134 drillholes sampled, \\n\\nthe  positions  of  which  formed  a cluster  near  Arckaringa  Creek.  Getty  Oil  development  Company  then \\n\\ncarried out further coal exploration in the Akkandale area within the Arckaringa Basin with 11 holes drilled \\n\\n(2,989 m). Further work consisted of reappraisal of existing seismic data, and an experimental Sirotem \\n\\nsurvey. Coal of variable thickness and quality was intersected in 9 holes. \\n\\nIn 1986 CRA Exploration Pty Ltd continued the search for possible iron ore, diamond and Olympic Dam-\\n\\nstyle Cu-Au-U mineralisation within the Coober Pedy Ridge area; with the examination of available water \\n\\nbore data, aerial magnetic and radiometric surveys, aerial photography, a regional gravity survey, follow-\\n\\nup ground magnetic, gravity and Sirotem surveys, and drilling (9 diamond drill holes totalling 1775 m; 18 \\n\\npercussion drill holes totalling 1258 m). Anomalous concentrations of copper, phosphorus, iron and rare \\n\\nearths were recorded in a possible carbonatite at Mount Brady. Anomalous uranium, thorium, cerium and \\n\\nlanthanum were found in pegmatitic breccias at the Peppercorn prospect. \\n\\nCoal  exploration  continued  through  to  1992  until  BHP  Billiton  Minerals  recommenced  base  metal \\n\\nexploration with sub surface rock of Proterozoic age. Area of focus included Oolgelima, Mount Clarence, \\n\\nPootnoura,  Ant  Hill,  Anna  Creek  and  Rurkeys  nest.  Work  comprised  of  three  detailed  airborne \\n\\nmagnetic/radiometric surveys, ground magnetic and EM surveys, and RC drilling (17 holes, total 4335 m). \\n\\nElevated gold, base metals and REE concentrations encountered in seven of the drillholes included a best \\n\\nintercept of 28 m @ 1428 ppm Cu, 614 ppm Pb, 2330 ppm Zn, 2 ppm Ag, and up to 1% Ce and La. \\n\\n \\n\\n \\n\\n\\x0c',\n",
       " 12: 'Final Annual Technical Report 2018-2020 EL 6219 \\n\\nPage 12 of 16 \\n\\nFrom  1996  to  2001  IMX  Resources  Ltd  continued  the  search  for  IOCG  mineralisation  within  buried \\n\\nProterozoic basement. Work comprised of a historical review, the collection of 44 calcrete samples and 2 \\n\\nrock  chip  samples  from  the  south-east  of  EL  2201  near  Coorillinna  Bore  where  a  possible  shallower \\n\\nbasement depth was interpreted. A peak value of 2.1 ppb Au was returned, with no significant arsenic or \\n\\ncopper values recorded. Ground magnetic survey was also carried out with 3 anomalies found. Prior to \\n\\nstarting the main program targeting crystalline basement, some scout RAB and aircore drilling (4 holes for \\n\\n~ 200 m) was also conducted on each of the M5, M12 and M14 targets to investigate the nature of the \\n\\ncover sediments. The RC drilling encountered Proterozoic granites beneath 70 m thickness of Mesozoic \\n\\nand Cainozoic cover. Basement samples from four of the drillholes returned significant anomalous base \\n\\nmetal assay results, with best intercepts including 16 m @ 0.57% Cu and 0.16% Ce+La from beneath 184 \\n\\nm depth in hole PD99WS003, and 12 m @ 0.14% Cu from 126 m in hole PD99WS001.  \\n\\nDuring August of 2000, 15 vertical RC holes (for 2561 m) targeted ten magnetic and gravity anomalies. \\n\\nEight of the targets were on Warrina North. At anomaly CP1 the drilling of hole 2000WS006 encountered \\n\\na sulphide-mineralised intercept within unaltered but brecciated granite, of 16 m @ 0.15% Cu from below \\n\\n164 m depth. This find confirmed the discovery made by Aquitaine Minerals in 1981, of 5 m @ 4320 ppm \\n\\nCu from 110 m depth in hole SCH001. Significant chlorite/haematite and carbonate alteration was found \\n\\nin  gneissic  basement  rocks  drilled  at  the  CP7  and  CP9  anomalies  respectively,  while  the  rocks  at  the \\n\\nremaining  anomalies  are  characterised  by  the  presence  of  intervals  of  disseminated  magnetite,  but \\n\\nappear not to contain any discrete iron oxide bodies. Another 5 inclined RC drillholes for 1173 m were \\n\\ncompleted before this program commenced. Their results have extended the area of mineralised skarn \\n\\nby 300 m westwards and 200 m to the south, so the total area of mineralised ground is now 600 m x 400 \\n\\nm, and remains open to the north and east. A best drillhole intercept of 4 m @ 0.34% Pb plus 0.48% Zn \\n\\nwas obtained from below 138 m depth in hole 2000CADI7, that included 4 m @ 0.03% Mo from 136 m. \\n\\nBetween  2000  and  2005  Alliance  Craton  Explorer  Pty  Ltd  continued  exploration  for  Olympic  Dam  / \\n\\nProminent Hill type mineralisation. Work consisted of review reinterpretation of geophysical data, with \\n\\nmore gravity acquired at 400m stations. Two drillholes were complete on the geophysical anomaly BigNE \\n\\n- ABNE01 and ABNE02.  \\n\\nHole  ABNE01  (TD  476.7  m,  including  419.5  m  of  open  hole  and  57.2  m  of  NQ  diamond  drilling) \\n\\nencountered a sequence of sheared and weakly altered metasediments, with no intersected lithologies \\n\\nproviding any explanation for the geophysical responses. The Post - drill remodelling of magnetic data at \\n\\nthe drillhole position has indicated the likelihood that the target material is confined to a narrower, denser \\n\\nand more strongly magnetic source to the north of the hole, possibly across a fault offset. \\n\\nHole ABNE02 (TD 509.1 m, including 390.5 m open hole and 118.6 m NQ diamond drilling) intersected \\n\\ntwo  intervals  of  relatively strong  haematite  development  within  variably carbonate-haematite  altered \\n\\nmetasediments.  Elevated  geochemical  levels of  Cu  (to  0.17%),  Au,  Ag,  As  and  Co  are  restricted to  the \\n\\nlower  interval  of  haematite  alteration,  from  475-486  m  depth,  which  has  associated  fracturing  and \\n\\nbrecciation. Overall there was no solid link between the drilling and what was found in gravity anomalies. \\n\\nCrosslands  Nickel  Pty  Ltd  explored  for  buried  stratabound  base  metal  and  silver  mineralisation  of  the \\n\\n \\n\\n \\n\\n\\x0c',\n",
       " 13: 'Final Annual Technical Report 2018-2020 EL 6219 \\n\\nPage 13 of 16 \\n\\nBroken Hill - Cannington type. Work included only desktop reviews, with the licence allowed to expire not \\n\\n \\n\\nlong after.  \\n\\nFrom 2006 to 2013 Alliance Pty Ltd continued the search for Mesoproterozoic IOCG mineralisation with \\n\\nextensive  exploration  programs.  Work  began  with  a  successful  grant  of  PACE  initiative  4  year  drilling \\n\\nfunded project. One rotary mud and HQ/NQ diamond hole was carried out to a total depth of 601.5 m. \\n\\nResults from BNW01/01a established that the shallower than expected sediment cover at the prospect \\n\\nhas a thickness of approximately 250 m. While no high assay values were returned from basement rock \\n\\nsampling, there remains sufficient encouragement that the adopted IOCG model is prospective, due to a \\n\\nsupportive relationship seen between anomalous Cu, Au and U. However, due to the angle of intercept, \\n\\nthe surrounding wall rock was not successfully understood. Drillhole samples returned only minimal trace \\n\\nlevel metals. Further gravity data acquired was added into interpretation and BNE03 was drilled to 342 \\n\\nbut didn’t reach basement, and hole later abandoned due to string issues. During the third year BNE04 \\n\\nand BNE05 were also drilled with no significant intercepts. Geochemically, the assay results returned from \\n\\nNiton  XRF  handheld  scanning  of  the  BNE04  core  were  mostly  very  low,  although  copper  values  were \\n\\nslightly elevated in the chlorite-altered interval at 478.0-507.9 m, with a best value of 1m @ 448 ppm Cu \\n\\nfrom 498 m (including 4 ppb Au, 5 ppm Pb and 97 ppm Zn). The BNE05 drill core Niton XRF had better \\n\\nresults including 1.1 m @ 0.32% Cu from 395 m, in haematite-carbonate veins and breccia, with veins of \\n\\npyrite-chalcopyrite-marcasite(?) and 0.5 m @ 0.24% Cu from 490 m, with carbonate-haematite veining. \\n\\nFurther  work  then  continued  with  heritage,  geochemical  sampling,  ground  gravity,  MT  and  induced \\n\\npolarisation. The MT survey produced a target with which another hole was drilled - BNE05X to 1164.9m. \\n\\nFurther geochemical analysis was done as well as petrographic analysis. The licence was later surrendered \\n\\ndue  to  a  lack  of  economic  mineralisation.  Due  to  the  anomalous  data  collected  by  Alliance  Craton, \\n\\nFortescue took specific interest in this area so further exploration work could be completed.  \\n\\nDuring this period Integra Mining Ltd also exploration for possible buried IOCG deposits in the Maglia Hill \\n\\narea. Work included review of previous data, interpretation of gravity data acquired in 2007 by PIRSA as \\n\\npart  of  PACE  initiative.  Further  gravity  surveys  were  then  carried  out  with  no  anomalies  identified. \\n\\nThrough  to  2012  U  Energy  Pty  Ltd  also  explored  for  possible  economic  IOCG  and  sedimentary  style \\n\\nuranium  mineralisation  that  may  have  formed  within  Palaeozoic  and  younger  cover.  Seven  IOCG \\n\\nanomalies were identified based on geophysical signatures, only one large gravity high in the south-east, \\n\\nand  five smaller magnetic peaks were considered attractive to drill. However, no field work ensued over \\n\\nthe next four years, and eventually tenure was allowed to lapse. GE Resources Pty Ltd then continued this \\n\\nwork in the Maglia Hill area through to 2015 with the search for the highly prospective sedimentary hosted \\n\\nuranium  and  IOCG  mineralisation  similar  to  Olympic  Dam  /  Prominent  Hill  and  Carrapateena.  Work \\n\\nincluded night time thermal infrared used to indicate basement architecture and gravity and magnetic \\n\\nmodelling which identified multiple anomalies and indicated target depths of 0-1500m.   \\n\\nExploration in the Warrina area slowed down until Fortescue acquired the licence in August 2018. \\n\\n \\n\\n \\n\\n \\n\\n\\x0cre was no solid link between the drilling and what was found in gravity anomalies. \\n\\nCrosslands  Nickel  Pty  Ltd  explored  for  buried  stratabound  base  metal  and  silver  mineralisation  of  the \\n\\n \\n\\n \\n\\n\\x0c',\n",
       " 14: 'Final Annual Technical Report 2018-2020 EL 6219 \\n\\nPage 14 of 16 \\n\\n  Previous FMG Exploration 2018-2019 \\n\\nDuring the 2018-2019 reporting period, FMG conducted an initial desktop review of the tenement area \\nfrom previous company data. Geological core logging from historical drill holes was undertaken, but no \\non-ground exploration activities were conducted. \\n\\n \\n \\n7.  FMG EXPLORATION 2019-2020 \\n\\nDuring the 2019-2020 reporting period, EL 6219 was added to FMG’s Native Title Mining Agreement with \\nthe Arabana Aboriginal Corporation RNTBC, via Letter of Exchange on 31 August 2019. \\n\\nFollowing a review of the tenement area by the FMG’s exploration team and as part of the relinquishment \\nrequirements for the NWOP AEA, the decision was made to not renew this tenement for a further term \\nand to instead allow it to expire as of 2 August 2020. \\n\\nNo on-ground exploration activities were conducted during the current reporting period. \\n\\n \\n8.  CONCLUSIONS  \\n\\nEL 6219 covers an area of 790 km2 and is located in the Mount Barry area, approximately 70km NNE of \\nCoober Pedy and forms part of Fortescue’s Northwest Olympic Project. \\n \\nFollowing a review of previous company data from the tenement area, the decision was made to allow \\nthe tenement to expire at the end of its current term on 2 August 2020. \\n \\n \\n\\n \\n\\n \\n\\n \\n\\n \\n\\n \\n\\n \\n\\n\\x0cults returned from \\n\\nNiton  XRF  handheld  scanning  of  the  BNE04  core  were  mostly  very  low,  although  copper  values  were \\n\\nslightly elevated in the chlorite-altered interval at 478.0-507.9 m, with a best value of 1m @ 448 ppm Cu \\n\\nfrom 498 m (including 4 ppb Au, 5 ppm Pb and 97 ppm Zn). The BNE05 drill core Niton XRF had better \\n\\nresults including 1.1 m @ 0.32% Cu from 395 m, in haematite-carbonate veins and breccia, with veins of \\n\\npyrite-chalcopyrite-marcasite(?) and 0.5 m @ 0.24% Cu from 490 m, with carbonate-haematite veining. \\n\\nFurther  work  then  continued  with  heritage,  geochemical  sampling,  ground  gravity,  MT  and  induced \\n\\npolarisation. The MT survey produced a target with which another hole was drilled - BNE05X to 1164.9m. \\n\\nFurther geochemical analysis was done as well as petrographic analysis. The licence was later surrendered \\n\\ndue  to  a  lack  of  economic  mineralisation.  Due  to  the  anomalous  data  collected  by  Alliance  Craton, \\n\\nFortescue took specific interest in this area so further exploration work could be completed.  \\n\\nDuring this period Integra Mining Ltd also exploration for possible buried IOCG deposits in the Maglia Hill \\n\\narea. Work included review of previous data, interpretation of gravity data acquired in 2007 by PIRSA as \\n\\npart  of  PACE  initiative.  Further  gravity  surveys  were  then  carried  out  with  no  anomalies  identified. \\n\\nThrough  to  2012  U  Energy  Pty  Ltd  also  explored  for  possible  economic  IOCG  and  sedimentary  style \\n\\nuranium  mineralisation  that  may  have  formed  within  Palaeozoic  and  younger  cover.  Seven  IOCG \\n\\nanomalies were identified based on geophysical signatures, only one large gravity high in the south-east, \\n\\nand  five smaller magnetic peaks were considered attractive to drill. However, no field work ensued over \\n\\nthe next four years, and eventually tenure was allowed to lapse. GE Resources Pty Ltd then continued this \\n\\nwork in the Maglia Hill area through to 2015 with the search for the highly prospective sedimentary hosted \\n\\nuranium  and  IOCG  mineralisation  similar  to  Olympic  Dam  /  Prominent  Hill  and  Carrapateena.  Work \\n\\nincluded night time thermal infrared used to indicate basement architecture and gravity and magnetic \\n\\nmodelling which identified multiple anomalies and indicated target depths of 0-1500m.   \\n\\nExploration in the Warrina area slowed down until Fortescue acquired the licence in August 2018. \\n\\n \\n\\n \\n\\n \\n\\n\\x0cre was no solid link between the drilling and what was found in gravity anomalies. \\n\\nCrosslands  Nickel  Pty  Ltd  explored  for  buried  stratabound  base  metal  and  silver  mineralisation  of  the \\n\\n \\n\\n \\n\\n\\x0c',\n",
       " 15: 'Final Annual Technical Report 2018-2020 EL 6219 \\n\\nPage 15 of 16 \\n\\n \\n\\n \\n\\n9.  REFERENCES  \\n\\nAllen SR, McPhie J, Ferris G and Simpson C 2008. Evolution and architecture of a large felsic Igneous \\n\\nProvince in western Laurentia: The 1.6 Ga Gawler Range Volcanics, South Australia. Journal of \\n\\nVolcanology and Geothermal Research 172:132–147. \\n\\nCutts, K., Hand, M., Kelsey, D.E., 2011. Evidence for early Mesoproterozoic (ca.1590Ma) ultrahigh-\\ntemperature metamorphism in southern Australia. Lithos 124, 1–16. \\n\\nFanning, C.M., Flint, R.B., Preiss, W.V., 1983, Geochronology of the Pandurra Formation: Geological \\n\\nSurvey of South Australia Quarterly Geological Notes, vol. 88, pp. 11–16. \\n\\nFanning, C. M., Flint, R. B., Parker, A. J., Ludwig, K. R. and Blissett, A. H. 1988. Refined Proterozoic \\n\\nevolution of the Gawler Craton, South Australia, through U-Pb zircon geochronology. Precambrian \\n\\nResearch, 40-41, pp. 363-386. \\n\\nFerris, G., Schwarz, M. and Heithersay, P. 2002. The Geological framework, distribution and controls of \\n\\nFe- Oxide Cu-Au mineralisation in the Gawler Craton, South Australia. Part I - Geological and tectonic \\n\\nframework. In T. M. Porter (Ed.) Hydrothermal Iron Oxide Copper-Gold and related deposits: A global \\n\\nperspective, PGC Publishing, Adelaide, pp 9-31. \\n\\nFraser, G., McAvaney, S., Neumann, N., Szpunar, M. and Reid, A., 2010. Discovery of early Mesoarchean \\n\\ncrust in the eastern Gawler Craton, South Australia: Precambrian Research, v. 179, pp. 1-21. \\n\\nHand, M., Reid, A. J. and Jagodzinski. 2007. Tectonic framework and evolution of the Gawler Craton, \\n\\nSouth Australia. Economic Geology, 102, pp. 1377-1395. \\n\\nJagodzinski, E. J. 2005. Compilation of SHRIMP U-Pb geochronological data, Olympic Domain, Gawler \\n\\nCraton, South Australia, 2001-2003. Geoscience Australia Record 2005/20, Geoscience Australia, \\n\\nCanberra. \\n\\nMcAvaney S, Werner M, Crowley J and Jagodzinski E 2017. The Gluepot Granite: CA-TIMS geochronology \\n\\nand constraints on the timing of deformation on northeastern Eyre Peninsula, Report Book 2016/00027. \\n\\nDepartment of the Premier and Cabinet, South Australia, Adelaide. \\n\\nMortimer, G.E., Cooper, J.A., Oliver, R.L., 1988. The geochemical evolution of Proterozoic granitoids near \\n\\nPort Lincoln in the Gawler orogenic domain of South Australia. Precambrian Research 40–41, 387–406. \\n\\nParker, A. J. 1993. Kimban Orogeny. In J. F. Drexel, W. V. Preiss and A. J. Parker (Eds.), The geology of \\n\\nSouth Australia, Volume 1, The Precambrian, Bulletin 54. Geological Survey of South Australia, Adelaide, \\n\\nPayne, J.L., Barovich, K., Hand, M., 2006. Provenance of metasedimentary rocks in the northern Gawler \\n\\nCraton, Australia: implications for Paleoproterozoic reconstructions. Precambrian Research 148, 275–\\n\\npp. 71-81. \\n\\n291. \\n\\n \\n\\n\\x0c Ltd  also  explored  for  possible  economic  IOCG  and  sedimentary  style \\n\\nuranium  mineralisation  that  may  have  formed  within  Palaeozoic  and  younger  cover.  Seven  IOCG \\n\\nanomalies were identified based on geophysical signatures, only one large gravity high in the south-east, \\n\\nand  five smaller magnetic peaks were considered attractive to drill. However, no field work ensued over \\n\\nthe next four years, and eventually tenure was allowed to lapse. GE Resources Pty Ltd then continued this \\n\\nwork in the Maglia Hill area through to 2015 with the search for the highly prospective sedimentary hosted \\n\\nuranium  and  IOCG  mineralisation  similar  to  Olympic  Dam  /  Prominent  Hill  and  Carrapateena.  Work \\n\\nincluded night time thermal infrared used to indicate basement architecture and gravity and magnetic \\n\\nmodelling which identified multiple anomalies and indicated target depths of 0-1500m.   \\n\\nExploration in the Warrina area slowed down until Fortescue acquired the licence in August 2018. \\n\\n \\n\\n \\n\\n \\n\\n\\x0cre was no solid link between the drilling and what was found in gravity anomalies. \\n\\nCrosslands  Nickel  Pty  Ltd  explored  for  buried  stratabound  base  metal  and  silver  mineralisation  of  the \\n\\n \\n\\n \\n\\n\\x0c',\n",
       " 16: 'Final Annual Technical Report 2018-2020 EL 6219 \\n\\nPage 16 of 16 \\n\\nPayne, J.L., Hand,M., Barovich, K.M., Wade, B.P., 2008. Temporal constraints on the timing of high-grade \\n\\nmetamorphism in the northern Gawler Craton: implications for assembly of the Australian Proterozoic. \\n\\nAustralian Journal of Earth Sciences 55, 623–640. \\n\\nReid, A., Hand, M., Jagodzinski, E., Kelsey, D.E., Pearson, N., 2008. Paleoproterozoic orogenesis in the \\n\\nsouth-eastern Gawler Craton South Australia. Australian Journal of Earth Sciences 55, 449–471. \\n\\nSkirrow, R.G., Bastrakov, E., Davidson, G., Raymond, O.L., and Heithersay, P., 2002, The geological \\n\\nframework, distribution and controls of Fe-oxide and related alteration, and Cu-Au mineralisation in the \\n\\nGawler craton, South Australia. Part II: Alteration and mineralisation, in Porter, T. M., ed., Hydrothermal \\n\\niron oxide copper-gold and related deposits: A global perspective, 2: Adelaide, Porter GeoConsultancy \\n\\nPublishing, p. 33–47. \\n\\nSzpunar, M., Hand, M., Barovich, K., Jagodzinski, E., Belousova, E., 2011, Isotopic and geochemical \\n\\nconstraints on the Paleoproterozoic Hutchison Group, southern Australia: Implications for \\n\\nPaleoproterozoic continental reconstructions. Precambrian Research 187, 99-126. \\n\\n10.  ATTACHMENTS \\n\\nWork \\n\\nFile Name \\n\\nFormat \\n\\nFinal Annual report \\n\\nEL6219 Final Annual Technical \\nReport_2020A \\n\\nEL6219 Location Map \\n\\nFigure1_EL6219 Location Map \\n\\nEL6219 Geology Map \\n\\nFigure2_EL6219 Geology Map \\n\\nEL6219 Region Map \\n\\nFigure3_EL6219 Region Map \\n\\nPDF \\n\\nPDF \\n\\nPDF \\n\\nPDF \\n\\n \\n\\n \\n\\n \\n\\n \\n\\n\\x0cution of the Gawler Craton, \\n\\nSouth Australia. Economic Geology, 102, pp. 1377-1395. \\n\\nJagodzinski, E. J. 2005. Compilation of SHRIMP U-Pb geochronological data, Olympic Domain, Gawler \\n\\nCraton, South Australia, 2001-2003. Geoscience Australia Record 2005/20, Geoscience Australia, \\n\\nCanberra. \\n\\nMcAvaney S, Werner M, Crowley J and Jagodzinski E 2017. The Gluepot Granite: CA-TIMS geochronology \\n\\nand constraints on the timing of deformation on northeastern Eyre Peninsula, Report Book 2016/00027. \\n\\nDepartment of the Premier and Cabinet, South Australia, Adelaide. \\n\\nMortimer, G.E., Cooper, J.A., Oliver, R.L., 1988. The geochemical evolution of Proterozoic granitoids near \\n\\nPort Lincoln in the Gawler orogenic domain of South Australia. Precambrian Research 40–41, 387–406. \\n\\nParker, A. J. 1993. Kimban Orogeny. In J. F. Drexel, W. V. Preiss and A. J. Parker (Eds.), The geology of \\n\\nSouth Australia, Volume 1, The Precambrian, Bulletin 54. Geological Survey of South Australia, Adelaide, \\n\\nPayne, J.L., Barovich, K., Hand, M., 2006. Provenance of metasedimentary rocks in the northern Gawler \\n\\nCraton, Australia: implications for Paleoproterozoic reconstructions. Precambrian Research 148, 275–\\n\\npp. 71-81. \\n\\n291. \\n\\n \\n\\n\\x0c Ltd  also  explored  for  possible  economic  IOCG  and  sedimentary  style \\n\\nuranium  mineralisation  that  may  have  formed  within  Palaeozoic  and  younger  cover.  Seven  IOCG \\n\\nanomalies were identified based on geophysical signatures, only one large gravity high in the south-east, \\n\\nand  five smaller magnetic peaks were considered attractive to drill. However, no field work ensued over \\n\\nthe next four years, and eventually tenure was allowed to lapse. GE Resources Pty Ltd then continued this \\n\\nwork in the Maglia Hill area through to 2015 with the search for the highly prospective sedimentary hosted \\n\\nuranium  and  IOCG  mineralisation  similar  to  Olympic  Dam  /  Prominent  Hill  and  Carrapateena.  Work \\n\\nincluded night time thermal infrared used to indicate basement architecture and gravity and magnetic \\n\\nmodelling which identified multiple anomalies and indicated target depths of 0-1500m.   \\n\\nExploration in the Warrina area slowed down until Fortescue acquired the licence in August 2018. \\n\\n \\n\\n \\n\\n \\n\\n\\x0cre was no solid link between the drilling and what was found in gravity anomalies. \\n\\nCrosslands  Nickel  Pty  Ltd  explored  for  buried  stratabound  base  metal  and  silver  mineralisation  of  the \\n\\n \\n\\n \\n\\n\\x0c'}"
      ]
     },
     "metadata": {},
     "execution_count": 7
    }
   ],
   "source": [
    "texts['13270']"
   ]
  },
  {
   "cell_type": "code",
   "execution_count": null,
   "metadata": {},
   "outputs": [],
   "source": []
  }
 ]
}