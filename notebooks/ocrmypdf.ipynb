{
 "cells": [
  {
   "cell_type": "code",
   "execution_count": null,
   "metadata": {},
   "outputs": [],
   "source": [
    "import ocrmypdf\n",
    "import logging\n",
    "from pathlib import Path\n",
    "import time"
   ]
  },
  {
   "cell_type": "code",
   "execution_count": null,
   "metadata": {},
   "outputs": [],
   "source": [
    "logging.basicConfig(filename='ocr.log',level=logging.ERROR)"
   ]
  },
  {
   "cell_type": "code",
   "execution_count": null,
   "metadata": {},
   "outputs": [],
   "source": [
    "def ocr(file_path, out_path):\n",
    "    ocrmypdf.ocr(file_path, out_path, output_type='pdf', skip_text=True)#,               clean=True, oversample=200,  deskew=True)"
   ]
  },
  {
   "cell_type": "code",
   "execution_count": null,
   "metadata": {},
   "outputs": [],
   "source": [
    "path = Path('/home/rian/Scanned')\n",
    "out_path = path / \"OCR\""
   ]
  },
  {
   "cell_type": "code",
   "execution_count": null,
   "metadata": {},
   "outputs": [],
   "source": [
    "scanned = [p.stem for p in out_path.glob('*.pdf')]"
   ]
  },
  {
   "cell_type": "code",
   "execution_count": null,
   "metadata": {},
   "outputs": [],
   "source": [
    "pdf_glob1 = [p for p in path.glob('*.pdf') if not (p.stem+\"_OCR\") in scanned]"
   ]
  },
  {
   "cell_type": "code",
   "execution_count": null,
   "metadata": {},
   "outputs": [],
   "source": [
    "\n",
    "pdf_glob = [p for p in path.glob('*.pdf')]"
   ]
  },
  {
   "cell_type": "code",
   "execution_count": null,
   "metadata": {},
   "outputs": [],
   "source": [
    "print(len(pdf_glob))\n",
    "len(pdf_glob1)"
   ]
  },
  {
   "cell_type": "code",
   "execution_count": null,
   "metadata": {},
   "outputs": [],
   "source": [
    "start = time.time()\n",
    "for pdf in pdf_glob1:\n",
    "    fname = str(pdf.stem)+\"_OCR.pdf\"\n",
    "    out = out_path / fname\n",
    "    print('/n')\n",
    "    print(fname)\n",
    "    print('')\n",
    "    try:\n",
    "        ocr(pdf,out)\n",
    "    except Exception as e:\n",
    "        print(f'something went wrong with {fname}')\n",
    "        logging.exception(f\"{e} occured in {fname}\")\n",
    "        continue\n",
    "    \n",
    "end = time.time()"
   ]
  },
  {
   "cell_type": "markdown",
   "metadata": {
    "tags": [
     "outputPrepend"
    ]
   },
   "source": [
    "start = time.time()\n",
    "for pdf in pdf_glob:\n",
    "    fname = str(pdf.stem)+\"_OCR.pdf\"\n",
    "    out = out_path / fname\n",
    "    print('/n')\n",
    "    print(fname)\n",
    "    print('')\n",
    "    try:\n",
    "        ocr(pdf,out)\n",
    "    except Exception as e:\n",
    "        print(f'something went wrong with {fname}')\n",
    "        logging.exception(\"Exception occured in {fname}\")\n",
    "        continue\n",
    "\n",
    "end = time.time()"
   ]
  },
  {
   "cell_type": "code",
   "execution_count": null,
   "metadata": {},
   "outputs": [],
   "source": [
    "print(f\"It took {(end-start)/60} minutes to run\")"
   ]
  },
  {
   "cell_type": "code",
   "execution_count": null,
   "metadata": {},
   "outputs": [],
   "source": []
  }
 ],
 "metadata": {
  "interpreter": {
   "hash": "53d1e594954dfdfa85ef7f49c6d836c6d7e1a90fa6872d863f5ab97bdc341dfe"
  },
  "kernelspec": {
   "display_name": "Python 3.8.10 64-bit ('ocr': conda)",
   "name": "python3"
  },
  "language_info": {
   "codemirror_mode": {
    "name": "ipython",
    "version": 3
   },
   "file_extension": ".py",
   "mimetype": "text/x-python",
   "name": "python",
   "nbconvert_exporter": "python",
   "pygments_lexer": "ipython3",
   "version": "3.8.10"
  },
  "orig_nbformat": 4
 },
 "nbformat": 4,
 "nbformat_minor": 2
}
